{
  "nbformat": 4,
  "nbformat_minor": 0,
  "metadata": {
    "colab": {
      "provenance": []
    },
    "kernelspec": {
      "name": "python3",
      "display_name": "Python 3"
    },
    "language_info": {
      "name": "python"
    },
    "accelerator": "GPU",
    "gpuClass": "standard"
  },
  "cells": [
    {
      "cell_type": "code",
      "execution_count": 1,
      "metadata": {
        "id": "AnIKXaiVCDFb"
      },
      "outputs": [],
      "source": [
        "from IPython.display import clear_output\n",
        "from google.colab import drive\n",
        "drive.mount('/content/drive')\n",
        "clear_output()"
      ]
    },
    {
      "cell_type": "code",
      "source": [
        "from keras.models import Sequential\n",
        "from keras.layers.pooling.global_max_pooling2d import GlobalMaxPooling2D\n",
        "from keras.layers import Conv2D, MaxPooling2D\n",
        "from keras.layers import Activation, Dropout, Dense\n",
        "from keras import backend as K\n",
        "from keras import regularizers\n",
        "import tensorflow as tf\n",
        "\n",
        "import numpy as np\n",
        "import pickle\n",
        "import random"
      ],
      "metadata": {
        "id": "8TZo3CR1CeXS"
      },
      "execution_count": 2,
      "outputs": []
    },
    {
      "cell_type": "code",
      "source": [
        "with open('/content/drive/MyDrive/furniture_classification/dataset_resized.pkl', 'rb') as file:\n",
        "    dataset = pickle.load(file)\n",
        "    labels = dataset[1]\n",
        "    images = dataset[0]"
      ],
      "metadata": {
        "id": "y4si8cb3CxHk"
      },
      "execution_count": 3,
      "outputs": []
    },
    {
      "cell_type": "code",
      "source": [
        "train_labels = []\n",
        "train_images = []\n",
        "val_labels = []\n",
        "val_images = []\n",
        "for i in range(len(images)):\n",
        "  train_labels.append(labels[i][:7])\n",
        "  train_images.append(images[i][:7])\n",
        "  val_labels.append(labels[i][7:])\n",
        "  val_images.append(images[i][7:])"
      ],
      "metadata": {
        "id": "5pX1NWSHD0R8"
      },
      "execution_count": 5,
      "outputs": []
    },
    {
      "cell_type": "code",
      "source": [
        "def batch_gen():\n",
        "  zipped = list(zip(train_images, train_labels))\n",
        "  while True:\n",
        "    random.shuffle(zipped)\n",
        "    images = [i[0] for i in zipped]\n",
        "    labels = [i[1] for i in zipped]\n",
        "    for i in range(len(images)):\n",
        "      yield images[i][:5], labels[i][:5]\n",
        "      yield images[i][5:], labels[i][5:]\n",
        "    # yield train_images[i], train_labels[i]"
      ],
      "metadata": {
        "id": "qtK4fb2iPJnK"
      },
      "execution_count": 6,
      "outputs": []
    },
    {
      "cell_type": "code",
      "source": [
        "def val_gen():\n",
        "  zipped = list(zip(val_images, val_labels))\n",
        "  while True:\n",
        "    random.shuffle(zipped)\n",
        "    images = [i[0] for i in zipped]\n",
        "    labels = [i[1] for i in zipped]\n",
        "    for i in range(len(images)):\n",
        "      yield images[i][:], labels[i][:]"
      ],
      "metadata": {
        "id": "G756QbQYa9H3"
      },
      "execution_count": 7,
      "outputs": []
    },
    {
      "cell_type": "code",
      "source": [
        "model = Sequential()\n",
        "model.add(Conv2D(32, 2, input_shape=(None, None, 1)))\n",
        "model.add(Activation('relu'))\n",
        "model.add(MaxPooling2D(pool_size=(2, 2)))\n",
        "\n",
        "model.add(Conv2D(32, 2))\n",
        "model.add(Activation('relu'))\n",
        "model.add(MaxPooling2D(pool_size=(2, 2)))\n",
        "\n",
        "model.add(Conv2D(64, 3))\n",
        "model.add(Activation('relu'))\n",
        "model.add(MaxPooling2D(pool_size=(3, 3)))\n",
        "\n",
        "model.add(Conv2D(64, 3))\n",
        "model.add(Activation('relu'))\n",
        "# model.add(MaxPooling2D(pool_size=(2, 2)))\n",
        "\n",
        "# model.add(Flatten())\n",
        "# model.add(Dense(256))\n",
        "# model.add(Activation('relu'))\n",
        "model.add(GlobalMaxPooling2D())\n",
        "model.add(Dropout(0.1))\n",
        "model.add(Dense(3,kernel_regularizer=regularizers.L1L2(l1=1e-5, l2=1e-4)))\n",
        "model.add(Activation('softmax'))"
      ],
      "metadata": {
        "id": "mE7N-mdrGJOK"
      },
      "execution_count": 44,
      "outputs": []
    },
    {
      "cell_type": "code",
      "source": [
        "model.summary()"
      ],
      "metadata": {
        "colab": {
          "base_uri": "https://localhost:8080/"
        },
        "id": "AT4e7pskOZgz",
        "outputId": "b8f3e783-3f93-4374-da4f-78b3e96258ac"
      },
      "execution_count": 45,
      "outputs": [
        {
          "output_type": "stream",
          "name": "stdout",
          "text": [
            "Model: \"sequential_7\"\n",
            "_________________________________________________________________\n",
            " Layer (type)                Output Shape              Param #   \n",
            "=================================================================\n",
            " conv2d_28 (Conv2D)          (None, None, None, 32)    160       \n",
            "                                                                 \n",
            " activation_35 (Activation)  (None, None, None, 32)    0         \n",
            "                                                                 \n",
            " max_pooling2d_21 (MaxPoolin  (None, None, None, 32)   0         \n",
            " g2D)                                                            \n",
            "                                                                 \n",
            " conv2d_29 (Conv2D)          (None, None, None, 32)    4128      \n",
            "                                                                 \n",
            " activation_36 (Activation)  (None, None, None, 32)    0         \n",
            "                                                                 \n",
            " max_pooling2d_22 (MaxPoolin  (None, None, None, 32)   0         \n",
            " g2D)                                                            \n",
            "                                                                 \n",
            " conv2d_30 (Conv2D)          (None, None, None, 64)    18496     \n",
            "                                                                 \n",
            " activation_37 (Activation)  (None, None, None, 64)    0         \n",
            "                                                                 \n",
            " max_pooling2d_23 (MaxPoolin  (None, None, None, 64)   0         \n",
            " g2D)                                                            \n",
            "                                                                 \n",
            " conv2d_31 (Conv2D)          (None, None, None, 64)    36928     \n",
            "                                                                 \n",
            " activation_38 (Activation)  (None, None, None, 64)    0         \n",
            "                                                                 \n",
            " global_max_pooling2d_7 (Glo  (None, 64)               0         \n",
            " balMaxPooling2D)                                                \n",
            "                                                                 \n",
            " dropout_5 (Dropout)         (None, 64)                0         \n",
            "                                                                 \n",
            " dense_7 (Dense)             (None, 3)                 195       \n",
            "                                                                 \n",
            " activation_39 (Activation)  (None, 3)                 0         \n",
            "                                                                 \n",
            "=================================================================\n",
            "Total params: 59,907\n",
            "Trainable params: 59,907\n",
            "Non-trainable params: 0\n",
            "_________________________________________________________________\n"
          ]
        }
      ]
    },
    {
      "cell_type": "code",
      "source": [
        "model.compile(loss='sparse_categorical_crossentropy',\n",
        "              # optimizer=tf.keras.optimizers.Adam(learning_rate=1e-3),\n",
        "              optimizer='adam',\n",
        "              metrics=['accuracy'])\n",
        "model_checkpoint_callback = tf.keras.callbacks.ModelCheckpoint(\n",
        "    filepath='best_model.hdf5',\n",
        "    save_weights_only=True,\n",
        "    monitor='val_accuracy',\n",
        "    mode='max',\n",
        "    save_best_only=True)"
      ],
      "metadata": {
        "id": "Lftszk1TOn2O"
      },
      "execution_count": 46,
      "outputs": []
    },
    {
      "cell_type": "code",
      "source": [
        "history = model.fit(batch_gen(), epochs=50, steps_per_epoch=200, validation_steps=30, validation_data =val_gen(), callbacks=[model_checkpoint_callback])"
      ],
      "metadata": {
        "colab": {
          "base_uri": "https://localhost:8080/"
        },
        "id": "qLV7QVZpO64B",
        "outputId": "16420af0-14d8-459d-fcbf-ceb9e8c28d77"
      },
      "execution_count": 47,
      "outputs": [
        {
          "output_type": "stream",
          "name": "stdout",
          "text": [
            "Epoch 1/50\n",
            "200/200 [==============================] - 6s 21ms/step - loss: 3.7678 - accuracy: 0.4029 - val_loss: 0.9938 - val_accuracy: 0.4556\n",
            "Epoch 2/50\n",
            "200/200 [==============================] - 4s 21ms/step - loss: 0.9405 - accuracy: 0.5443 - val_loss: 0.9802 - val_accuracy: 0.4778\n",
            "Epoch 3/50\n",
            "200/200 [==============================] - 4s 21ms/step - loss: 0.8429 - accuracy: 0.6371 - val_loss: 0.7688 - val_accuracy: 0.7556\n",
            "Epoch 4/50\n",
            "200/200 [==============================] - 4s 20ms/step - loss: 0.5580 - accuracy: 0.7814 - val_loss: 0.8830 - val_accuracy: 0.6444\n",
            "Epoch 5/50\n",
            "200/200 [==============================] - 4s 20ms/step - loss: 0.4959 - accuracy: 0.8071 - val_loss: 0.8781 - val_accuracy: 0.6778\n",
            "Epoch 6/50\n",
            "200/200 [==============================] - 4s 21ms/step - loss: 0.3733 - accuracy: 0.8629 - val_loss: 0.7756 - val_accuracy: 0.7778\n",
            "Epoch 7/50\n",
            "200/200 [==============================] - 4s 20ms/step - loss: 0.2336 - accuracy: 0.9086 - val_loss: 0.6100 - val_accuracy: 0.7111\n",
            "Epoch 8/50\n",
            "200/200 [==============================] - 4s 20ms/step - loss: 0.1590 - accuracy: 0.9500 - val_loss: 0.6113 - val_accuracy: 0.8222\n",
            "Epoch 9/50\n",
            "200/200 [==============================] - 4s 21ms/step - loss: 0.3353 - accuracy: 0.8686 - val_loss: 0.5566 - val_accuracy: 0.8000\n",
            "Epoch 10/50\n",
            "200/200 [==============================] - 4s 20ms/step - loss: 0.1494 - accuracy: 0.9557 - val_loss: 1.2437 - val_accuracy: 0.6333\n",
            "Epoch 11/50\n",
            "200/200 [==============================] - 4s 21ms/step - loss: 0.1046 - accuracy: 0.9700 - val_loss: 0.6743 - val_accuracy: 0.8111\n",
            "Epoch 12/50\n",
            "200/200 [==============================] - 4s 20ms/step - loss: 0.1800 - accuracy: 0.9471 - val_loss: 3.8871 - val_accuracy: 0.4778\n",
            "Epoch 13/50\n",
            "200/200 [==============================] - 5s 23ms/step - loss: 0.6559 - accuracy: 0.8071 - val_loss: 0.8525 - val_accuracy: 0.6889\n",
            "Epoch 14/50\n",
            "200/200 [==============================] - 5s 23ms/step - loss: 0.1596 - accuracy: 0.9443 - val_loss: 0.6141 - val_accuracy: 0.7778\n",
            "Epoch 15/50\n",
            "200/200 [==============================] - 5s 24ms/step - loss: 0.0746 - accuracy: 0.9800 - val_loss: 0.4020 - val_accuracy: 0.8667\n",
            "Epoch 16/50\n",
            "200/200 [==============================] - 5s 27ms/step - loss: 0.0418 - accuracy: 0.9886 - val_loss: 0.6946 - val_accuracy: 0.7778\n",
            "Epoch 17/50\n",
            "200/200 [==============================] - 4s 20ms/step - loss: 0.0223 - accuracy: 0.9971 - val_loss: 0.4569 - val_accuracy: 0.8667\n",
            "Epoch 18/50\n",
            "200/200 [==============================] - 4s 22ms/step - loss: 0.1000 - accuracy: 0.9700 - val_loss: 0.6814 - val_accuracy: 0.7889\n",
            "Epoch 19/50\n",
            "200/200 [==============================] - 4s 22ms/step - loss: 0.0361 - accuracy: 0.9943 - val_loss: 0.6975 - val_accuracy: 0.8000\n",
            "Epoch 20/50\n",
            "200/200 [==============================] - 4s 18ms/step - loss: 0.0607 - accuracy: 0.9871 - val_loss: 1.1155 - val_accuracy: 0.7222\n",
            "Epoch 21/50\n",
            "200/200 [==============================] - 4s 20ms/step - loss: 1.1461 - accuracy: 0.7457 - val_loss: 0.9151 - val_accuracy: 0.5778\n",
            "Epoch 22/50\n",
            "200/200 [==============================] - 4s 21ms/step - loss: 0.2574 - accuracy: 0.8886 - val_loss: 0.5643 - val_accuracy: 0.8222\n",
            "Epoch 23/50\n",
            "200/200 [==============================] - 4s 20ms/step - loss: 0.1099 - accuracy: 0.9600 - val_loss: 0.6163 - val_accuracy: 0.8444\n",
            "Epoch 24/50\n",
            "200/200 [==============================] - 4s 20ms/step - loss: 0.0562 - accuracy: 0.9843 - val_loss: 0.7856 - val_accuracy: 0.7444\n",
            "Epoch 25/50\n",
            "200/200 [==============================] - 4s 21ms/step - loss: 0.0268 - accuracy: 0.9943 - val_loss: 0.5397 - val_accuracy: 0.8556\n",
            "Epoch 26/50\n",
            "200/200 [==============================] - 4s 20ms/step - loss: 0.0245 - accuracy: 0.9943 - val_loss: 0.7421 - val_accuracy: 0.8111\n",
            "Epoch 27/50\n",
            "200/200 [==============================] - 4s 20ms/step - loss: 0.1199 - accuracy: 0.9600 - val_loss: 0.6431 - val_accuracy: 0.8000\n",
            "Epoch 28/50\n",
            "200/200 [==============================] - 4s 19ms/step - loss: 0.0473 - accuracy: 0.9871 - val_loss: 0.7367 - val_accuracy: 0.8000\n",
            "Epoch 29/50\n",
            "200/200 [==============================] - 4s 22ms/step - loss: 0.0120 - accuracy: 1.0000 - val_loss: 0.5536 - val_accuracy: 0.8444\n",
            "Epoch 30/50\n",
            "200/200 [==============================] - 4s 20ms/step - loss: 0.0132 - accuracy: 0.9971 - val_loss: 1.3842 - val_accuracy: 0.7333\n",
            "Epoch 31/50\n",
            "200/200 [==============================] - 4s 20ms/step - loss: 0.2335 - accuracy: 0.9371 - val_loss: 1.7129 - val_accuracy: 0.6667\n",
            "Epoch 32/50\n",
            "200/200 [==============================] - 5s 24ms/step - loss: 0.3198 - accuracy: 0.9100 - val_loss: 2.5057 - val_accuracy: 0.7111\n",
            "Epoch 33/50\n",
            "200/200 [==============================] - 4s 20ms/step - loss: 0.1836 - accuracy: 0.9414 - val_loss: 1.2722 - val_accuracy: 0.7333\n",
            "Epoch 34/50\n",
            "200/200 [==============================] - 4s 18ms/step - loss: 0.0266 - accuracy: 0.9957 - val_loss: 0.8552 - val_accuracy: 0.7889\n",
            "Epoch 35/50\n",
            "200/200 [==============================] - 4s 21ms/step - loss: 0.0106 - accuracy: 1.0000 - val_loss: 1.1411 - val_accuracy: 0.7667\n",
            "Epoch 36/50\n",
            "200/200 [==============================] - 4s 21ms/step - loss: 0.0094 - accuracy: 0.9986 - val_loss: 0.9231 - val_accuracy: 0.7889\n",
            "Epoch 37/50\n",
            "200/200 [==============================] - 4s 21ms/step - loss: 0.0137 - accuracy: 0.9971 - val_loss: 1.3261 - val_accuracy: 0.7111\n",
            "Epoch 38/50\n",
            "200/200 [==============================] - 4s 22ms/step - loss: 0.0042 - accuracy: 1.0000 - val_loss: 0.8337 - val_accuracy: 0.7778\n",
            "Epoch 39/50\n",
            "200/200 [==============================] - 4s 21ms/step - loss: 0.0056 - accuracy: 0.9986 - val_loss: 1.0323 - val_accuracy: 0.8000\n",
            "Epoch 40/50\n",
            "200/200 [==============================] - 4s 21ms/step - loss: 0.0028 - accuracy: 1.0000 - val_loss: 1.1719 - val_accuracy: 0.7556\n",
            "Epoch 41/50\n",
            "200/200 [==============================] - 4s 21ms/step - loss: 0.0045 - accuracy: 0.9986 - val_loss: 0.8998 - val_accuracy: 0.7889\n",
            "Epoch 42/50\n",
            "200/200 [==============================] - 4s 21ms/step - loss: 0.0045 - accuracy: 1.0000 - val_loss: 1.0281 - val_accuracy: 0.8111\n",
            "Epoch 43/50\n",
            "200/200 [==============================] - 4s 19ms/step - loss: 0.7610 - accuracy: 0.8871 - val_loss: 2.1352 - val_accuracy: 0.5444\n",
            "Epoch 44/50\n",
            "200/200 [==============================] - 4s 19ms/step - loss: 0.4839 - accuracy: 0.8529 - val_loss: 0.9844 - val_accuracy: 0.7889\n",
            "Epoch 45/50\n",
            "200/200 [==============================] - 4s 21ms/step - loss: 0.1489 - accuracy: 0.9543 - val_loss: 0.7907 - val_accuracy: 0.7889\n",
            "Epoch 46/50\n",
            "200/200 [==============================] - 4s 21ms/step - loss: 0.1107 - accuracy: 0.9729 - val_loss: 0.9424 - val_accuracy: 0.8556\n",
            "Epoch 47/50\n",
            "200/200 [==============================] - 4s 19ms/step - loss: 0.0341 - accuracy: 0.9871 - val_loss: 1.0078 - val_accuracy: 0.7889\n",
            "Epoch 48/50\n",
            "200/200 [==============================] - 4s 19ms/step - loss: 0.0112 - accuracy: 1.0000 - val_loss: 0.6923 - val_accuracy: 0.8667\n",
            "Epoch 49/50\n",
            "200/200 [==============================] - 4s 22ms/step - loss: 0.0119 - accuracy: 0.9986 - val_loss: 1.0792 - val_accuracy: 0.7889\n",
            "Epoch 50/50\n",
            "200/200 [==============================] - 4s 19ms/step - loss: 0.0083 - accuracy: 0.9986 - val_loss: 0.7250 - val_accuracy: 0.7889\n"
          ]
        }
      ]
    },
    {
      "cell_type": "code",
      "source": [
        "model.load_weights('best_model.hdf5')"
      ],
      "metadata": {
        "id": "uDdv5R4861ks"
      },
      "execution_count": 29,
      "outputs": []
    },
    {
      "cell_type": "code",
      "source": [
        "zipped_val = zip(val_images, val_labels)\n",
        "model.evaluate(zipped_val)"
      ],
      "metadata": {
        "colab": {
          "base_uri": "https://localhost:8080/"
        },
        "id": "cvpgiuOu67-1",
        "outputId": "dc0f6e88-d23e-4230-a167-846b435b2321"
      },
      "execution_count": 48,
      "outputs": [
        {
          "output_type": "stream",
          "name": "stdout",
          "text": [
            "30/30 [==============================] - 0s 8ms/step - loss: 0.8791 - accuracy: 0.7889\n"
          ]
        },
        {
          "output_type": "execute_result",
          "data": {
            "text/plain": [
              "[0.8791431188583374, 0.7888888716697693]"
            ]
          },
          "metadata": {},
          "execution_count": 48
        }
      ]
    }
  ]
}